{
 "cells": [
  {
   "cell_type": "markdown",
   "id": "1b505110",
   "metadata": {},
   "source": [
    "# Aprendizaje Federado: Modelos Globales"
   ]
  },
  {
   "cell_type": "code",
   "execution_count": null,
   "id": "9a15a866",
   "metadata": {
    "vscode": {
     "languageId": "plaintext"
    }
   },
   "outputs": [],
   "source": [
    "import matplotlib.pyplot as plt\n",
    "from sklearn.metrics import classification_report\n",
    "from TheModel2 import build"
   ]
  },
  {
   "cell_type": "code",
   "execution_count": null,
   "id": "9b9ef7d9",
   "metadata": {
    "vscode": {
     "languageId": "plaintext"
    }
   },
   "outputs": [],
   "source": [
    "# Cargar el dataset para utilizar test set\n",
    "train, test = tf.keras.datasets.mnist.load_data()\n",
    "\n",
    "x_train, x_test = np.expand_dims(train[0] / 255.0, -1), np.expand_dims(test[0] / 255.0, -1)\n",
    "y_train, y_test = train[1], test[1]"
   ]
  },
  {
   "cell_type": "code",
   "execution_count": null,
   "id": "4f8aca18",
   "metadata": {
    "vscode": {
     "languageId": "plaintext"
    }
   },
   "outputs": [],
   "source": [
    "## Llamar los modelos entrandos localmente:\n",
    "\n",
    "import os\n",
    "loaded_local_models = [tf.keras.models.load_model(os.path.join(root, file)) for root, dirs, files in os.walk(\"./\") for file in files if file.endswith('.keras')]\n",
    "\n",
    "for i in range(len(loaded_local_models)-1):\n",
    "    assert loaded_local_models[i].summary() == loaded_local_models[i+1].summary(), \"Models have different architectures\""
   ]
  },
  {
   "cell_type": "code",
   "execution_count": null,
   "id": "f5f875a8",
   "metadata": {
    "vscode": {
     "languageId": "plaintext"
    }
   },
   "outputs": [],
   "source": [
    "# Pesos de cada modelo local \n",
    "local_weights = [x.get_weights() for x in loaded_local_models]"
   ]
  },
  {
   "cell_type": "markdown",
   "id": "223da406",
   "metadata": {},
   "source": [
    "### FedAvg"
   ]
  },
  {
   "cell_type": "code",
   "execution_count": null,
   "id": "e15e2549",
   "metadata": {
    "vscode": {
     "languageId": "plaintext"
    }
   },
   "outputs": [],
   "source": [
    "# Promedio ponderado de los pesos\n",
    "averaged_weights = [np.mean(np.array(weights), axis=0) for weights in zip(*local_weights)]\n",
    "\n",
    "# Construcción del modelo local utilizando los pesos promediados\n",
    "global_model_Favg = build.build_it()\n",
    "global_model_Favg.set_weights(averaged_weights)\n",
    "\n",
    "# Predicción para el test set\n",
    "y_pred = global_model_Favg.predict(x_test)\n",
    "y_pred_classes = np.argmax(y_pred, axis=1)\n",
    "\n",
    "# Reporte de classificación\n",
    "print(classification_report(y_test, y_pred_classes))\n",
    "\n",
    "global_model_Favg.save('global_model_Favg.keras') # Se guarda el modelo"
   ]
  },
  {
   "cell_type": "markdown",
   "id": "a03ef995",
   "metadata": {},
   "source": [
    "### FedBN"
   ]
  },
  {
   "cell_type": "code",
   "execution_count": null,
   "id": "c33fbb1c",
   "metadata": {
    "vscode": {
     "languageId": "plaintext"
    }
   },
   "outputs": [],
   "source": [
    "# Modelo base para aplicar FedBN\n",
    "global_model_Fbn = build.build_it()\n",
    "\n",
    "# Insertar promedio de los pesos para las capas necesarias (excluyendo BatchNormalization)\n",
    "for layer in global_model_Fbn.layers:\n",
    "    if not isinstance(layer, tf.keras.layers.BatchNormalization):  \n",
    "        # Pesos de cada modelo para la capa actual\n",
    "        layer_weights = [model.get_layer(layer.name).get_weights() for model in loaded_local_models]\n",
    "        \n",
    "        # Promedio de los pesos\n",
    "        averaged_weights = [sum(weights) / len(weights) for weights in zip(*layer_weights)]\n",
    "        \n",
    "        # Asigna los pesos promediados a la capa en el modelo global\n",
    "        layer.set_weights(averaged_weights)\n",
    "\n",
    "# Predicción para el test set\n",
    "y_pred = global_model_Fbn.predict(x_test)\n",
    "y_pred_classes = np.argmax(y_pred, axis=1)\n",
    "\n",
    "# Reporte de classificación\n",
    "print(classification_report(y_test, y_pred_classes))\n",
    "\n",
    "global_model_Fbn.save('global_model_Fbn.keras') # Se guarda el modelo"
   ]
  }
 ],
 "metadata": {
  "language_info": {
   "name": "python"
  }
 },
 "nbformat": 4,
 "nbformat_minor": 5
}
